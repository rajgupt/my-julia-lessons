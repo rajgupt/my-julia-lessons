{
 "cells": [
  {
   "cell_type": "markdown",
   "id": "e9f757c6",
   "metadata": {},
   "source": [
    "# DICT\n",
    "Key - Value Pair Mutable"
   ]
  },
  {
   "cell_type": "code",
   "execution_count": 1,
   "id": "328aa3c7",
   "metadata": {
    "ExecuteTime": {
     "end_time": "2021-06-03T20:50:36.152000+05:30",
     "start_time": "2021-06-03T15:20:31.569Z"
    }
   },
   "outputs": [
    {
     "data": {
      "text/plain": [
       "Dict{String,String} with 2 entries:\n",
       "  \"Jenny\" => \"5607\"\n",
       "  \"Kenny\" => \"5607\""
      ]
     },
     "execution_count": 1,
     "metadata": {},
     "output_type": "execute_result"
    }
   ],
   "source": [
    "Dict([\n",
    "    (\"Jenny\",  \"5607\"),\n",
    "    (\"Kenny\",  \"5607\"),\n",
    "    ])"
   ]
  },
  {
   "cell_type": "code",
   "execution_count": 3,
   "id": "7741b63f",
   "metadata": {
    "ExecuteTime": {
     "end_time": "2021-06-03T20:51:15.090000+05:30",
     "start_time": "2021-06-03T15:21:15.011Z"
    }
   },
   "outputs": [
    {
     "data": {
      "text/plain": [
       "Dict{String,String} with 2 entries:\n",
       "  \"Jenny\" => \"5607\"\n",
       "  \"Kenny\" => \"5607\""
      ]
     },
     "execution_count": 3,
     "metadata": {},
     "output_type": "execute_result"
    }
   ],
   "source": [
    "d = Dict(\"Jenny\" => \"5607\", \"Kenny\" => \"5607\")\n",
    "d"
   ]
  },
  {
   "cell_type": "code",
   "execution_count": 5,
   "id": "fe7a11b9",
   "metadata": {
    "ExecuteTime": {
     "end_time": "2021-06-03T20:51:27.014000+05:30",
     "start_time": "2021-06-03T15:21:27.010Z"
    }
   },
   "outputs": [
    {
     "data": {
      "text/plain": [
       "Dict{String,String} with 3 entries:\n",
       "  \"Jenny\" => \"5607\"\n",
       "  \"Kenny\" => \"5607\"\n",
       "  \"Telly\" => \"4334433\""
      ]
     },
     "execution_count": 5,
     "metadata": {},
     "output_type": "execute_result"
    }
   ],
   "source": [
    "d[\"Telly\"] = \"4334433\"\n",
    "d"
   ]
  },
  {
   "cell_type": "markdown",
   "id": "9dbcdc41",
   "metadata": {},
   "source": [
    "# Tuple\n",
    "\n",
    "Read-only seq"
   ]
  },
  {
   "cell_type": "code",
   "execution_count": 7,
   "id": "1c4bfd17",
   "metadata": {
    "ExecuteTime": {
     "end_time": "2021-06-03T20:52:14.419000+05:30",
     "start_time": "2021-06-03T15:22:14.415Z"
    }
   },
   "outputs": [
    {
     "data": {
      "text/plain": [
       "(\"penguins\", \"cats\", \"sugargliders\")"
      ]
     },
     "execution_count": 7,
     "metadata": {},
     "output_type": "execute_result"
    }
   ],
   "source": [
    "t = (\"penguins\", \"cats\", \"sugargliders\")\n",
    "t"
   ]
  },
  {
   "cell_type": "code",
   "execution_count": 9,
   "id": "05104fa9",
   "metadata": {
    "ExecuteTime": {
     "end_time": "2021-06-03T20:52:39.338000+05:30",
     "start_time": "2021-06-03T15:22:39.297Z"
    }
   },
   "outputs": [
    {
     "data": {
      "text/plain": [
       "\"penguins\""
      ]
     },
     "execution_count": 9,
     "metadata": {},
     "output_type": "execute_result"
    }
   ],
   "source": [
    "t[1]"
   ]
  },
  {
   "cell_type": "code",
   "execution_count": 8,
   "id": "07095137",
   "metadata": {
    "ExecuteTime": {
     "end_time": "2021-06-03T20:52:22.643000+05:30",
     "start_time": "2021-06-03T15:22:22.110Z"
    }
   },
   "outputs": [
    {
     "ename": "MethodError",
     "evalue": "MethodError: no method matching setindex!(::Tuple{String,String,String}, ::String, ::Int64)",
     "output_type": "error",
     "traceback": [
      "MethodError: no method matching setindex!(::Tuple{String,String,String}, ::String, ::Int64)",
      "",
      "Stacktrace:",
      " [1] top-level scope at In[8]:1"
     ]
    }
   ],
   "source": [
    "t[1] = \"ter\""
   ]
  },
  {
   "cell_type": "markdown",
   "id": "92161aa6",
   "metadata": {},
   "source": [
    "# NamedTuple\n",
    "\n",
    "Key Value Immutable"
   ]
  },
  {
   "cell_type": "code",
   "execution_count": 10,
   "id": "bfd9d057",
   "metadata": {
    "ExecuteTime": {
     "end_time": "2021-06-03T20:53:36.590000+05:30",
     "start_time": "2021-06-03T15:23:36.179Z"
    }
   },
   "outputs": [
    {
     "data": {
      "text/plain": [
       "(bird = \"penguins\", mammal = \"cats\", marsupial = \"sugargliders\")"
      ]
     },
     "execution_count": 10,
     "metadata": {},
     "output_type": "execute_result"
    }
   ],
   "source": [
    "myfavoriteanimals = (bird = \"penguins\", mammal = \"cats\", marsupial = \"sugargliders\")\n",
    "myfavoriteanimals"
   ]
  },
  {
   "cell_type": "code",
   "execution_count": 14,
   "id": "6acbfbce",
   "metadata": {
    "ExecuteTime": {
     "end_time": "2021-06-03T20:54:06.471000+05:30",
     "start_time": "2021-06-03T15:24:06.468Z"
    }
   },
   "outputs": [
    {
     "data": {
      "text/plain": [
       "\"penguins\""
      ]
     },
     "execution_count": 14,
     "metadata": {},
     "output_type": "execute_result"
    }
   ],
   "source": [
    "# get by name\n",
    "myfavoriteanimals.bird"
   ]
  },
  {
   "cell_type": "code",
   "execution_count": 15,
   "id": "b3be7c16",
   "metadata": {
    "ExecuteTime": {
     "end_time": "2021-06-03T20:54:11.779000+05:30",
     "start_time": "2021-06-03T15:24:11.776Z"
    }
   },
   "outputs": [
    {
     "data": {
      "text/plain": [
       "\"penguins\""
      ]
     },
     "execution_count": 15,
     "metadata": {},
     "output_type": "execute_result"
    }
   ],
   "source": [
    "# get by idx\n",
    "myfavoriteanimals[1]"
   ]
  },
  {
   "cell_type": "code",
   "execution_count": null,
   "id": "19880f76",
   "metadata": {},
   "outputs": [],
   "source": []
  }
 ],
 "metadata": {
  "kernelspec": {
   "display_name": "Julia 1.4.2",
   "language": "julia",
   "name": "julia-1.4"
  },
  "language_info": {
   "file_extension": ".jl",
   "mimetype": "application/julia",
   "name": "julia",
   "version": "1.4.2"
  },
  "toc": {
   "base_numbering": 1,
   "nav_menu": {},
   "number_sections": true,
   "sideBar": true,
   "skip_h1_title": false,
   "title_cell": "Table of Contents",
   "title_sidebar": "Contents",
   "toc_cell": false,
   "toc_position": {},
   "toc_section_display": true,
   "toc_window_display": false
  }
 },
 "nbformat": 4,
 "nbformat_minor": 5
}
