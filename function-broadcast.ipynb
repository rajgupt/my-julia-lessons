{
 "cells": [
  {
   "cell_type": "markdown",
   "metadata": {},
   "source": [
    "# Functions"
   ]
  },
  {
   "cell_type": "code",
   "execution_count": 7,
   "metadata": {
    "ExecuteTime": {
     "end_time": "2021-06-03T21:12:34.101000+05:30",
     "start_time": "2021-06-03T15:42:34.096Z"
    }
   },
   "outputs": [
    {
     "data": {
      "text/plain": [
       "f (generic function with 1 method)"
      ]
     },
     "execution_count": 7,
     "metadata": {},
     "output_type": "execute_result"
    }
   ],
   "source": [
    "function sayhi(name)\n",
    "    println(\"Hi $name, it's great to see you!\")\n",
    "end\n",
    "\n",
    "# arg dtype restrictions\n",
    "function sayhi2(name::String)\n",
    "    println(\"Hi $name, it's great to see you!\")\n",
    "end"
   ]
  },
  {
   "cell_type": "code",
   "execution_count": 12,
   "metadata": {
    "ExecuteTime": {
     "end_time": "2021-06-03T21:14:19.769000+05:30",
     "start_time": "2021-06-03T15:44:19.764Z"
    }
   },
   "outputs": [
    {
     "name": "stdout",
     "output_type": "stream",
     "text": [
      "Hi mam, it's great to see you!\n",
      "Hi 42, it's great to see you!\n",
      "Hi (1, 2), it's great to see you!\n",
      "Hi Dict(\"fe\" => 1), it's great to see you!\n"
     ]
    },
    {
     "data": {
      "text/html": [
       "# 1 method for generic function <b>sayhi</b>:<ul><li> sayhi(name) in Main at In[7]:2</li> </ul>"
      ],
      "text/plain": [
       "# 1 method for generic function \"sayhi\":\n",
       "[1] sayhi(name) in Main at In[7]:2"
      ]
     },
     "execution_count": 12,
     "metadata": {},
     "output_type": "execute_result"
    }
   ],
   "source": [
    "# works with anything - sometimes dangerous / unnexpected failures\n",
    "sayhi(\"mam\")\n",
    "sayhi(42)\n",
    "sayhi((1,2))\n",
    "sayhi(Dict(\"fe\" => 1))\n",
    "\n",
    "methods(sayhi)"
   ]
  },
  {
   "cell_type": "code",
   "execution_count": 13,
   "metadata": {
    "ExecuteTime": {
     "end_time": "2021-06-03T21:14:22.036000+05:30",
     "start_time": "2021-06-03T15:44:22.032Z"
    }
   },
   "outputs": [
    {
     "name": "stdout",
     "output_type": "stream",
     "text": [
      "Hi mam, it's great to see you!\n"
     ]
    },
    {
     "ename": "MethodError",
     "evalue": "MethodError: no method matching sayhi2(::Int64)\nClosest candidates are:\n  sayhi2(!Matched::String) at In[7]:6",
     "output_type": "error",
     "traceback": [
      "MethodError: no method matching sayhi2(::Int64)\nClosest candidates are:\n  sayhi2(!Matched::String) at In[7]:6",
      "",
      "Stacktrace:",
      " [1] top-level scope at In[13]:2"
     ]
    }
   ],
   "source": [
    "sayhi2(\"mam\")\n",
    "sayhi2(42)"
   ]
  },
  {
   "cell_type": "code",
   "execution_count": 14,
   "metadata": {
    "ExecuteTime": {
     "end_time": "2021-06-03T21:14:24.115000+05:30",
     "start_time": "2021-06-03T15:44:24.112Z"
    }
   },
   "outputs": [
    {
     "data": {
      "text/html": [
       "# 1 method for generic function <b>sayhi2</b>:<ul><li> sayhi2(name::<b>String</b>) in Main at In[7]:6</li> </ul>"
      ],
      "text/plain": [
       "# 1 method for generic function \"sayhi2\":\n",
       "[1] sayhi2(name::String) in Main at In[7]:6"
      ]
     },
     "execution_count": 14,
     "metadata": {},
     "output_type": "execute_result"
    }
   ],
   "source": [
    "methods(sayhi2)"
   ]
  },
  {
   "cell_type": "markdown",
   "metadata": {},
   "source": [
    "# Anonymous Functions"
   ]
  },
  {
   "cell_type": "code",
   "execution_count": 15,
   "metadata": {
    "ExecuteTime": {
     "end_time": "2021-06-03T21:14:49.298000+05:30",
     "start_time": "2021-06-03T15:44:49.123Z"
    }
   },
   "outputs": [
    {
     "data": {
      "text/plain": [
       "#3 (generic function with 1 method)"
      ]
     },
     "execution_count": 15,
     "metadata": {},
     "output_type": "execute_result"
    }
   ],
   "source": [
    "sayhi3 = name -> println(\"Hi $name, it's great to see you!\")"
   ]
  },
  {
   "cell_type": "code",
   "execution_count": 16,
   "metadata": {
    "ExecuteTime": {
     "end_time": "2021-06-03T21:15:03.261000+05:30",
     "start_time": "2021-06-03T15:45:03.255Z"
    }
   },
   "outputs": [
    {
     "name": "stdout",
     "output_type": "stream",
     "text": [
      "Hi mam, it's great to see you!\n"
     ]
    }
   ],
   "source": [
    "sayhi3(\"mam\")"
   ]
  },
  {
   "cell_type": "markdown",
   "metadata": {},
   "source": [
    "# Mutating and Non-Mutating"
   ]
  },
  {
   "cell_type": "code",
   "execution_count": 20,
   "metadata": {
    "ExecuteTime": {
     "end_time": "2021-06-03T21:17:00.205000+05:30",
     "start_time": "2021-06-03T15:47:00.201Z"
    }
   },
   "outputs": [
    {
     "name": "stdout",
     "output_type": "stream",
     "text": [
      "a = [4, 2, 3]\n",
      "a = [2, 3, 4]\n"
     ]
    },
    {
     "data": {
      "text/plain": [
       "3-element Array{Int64,1}:\n",
       " 2\n",
       " 3\n",
       " 4"
      ]
     },
     "execution_count": 20,
     "metadata": {},
     "output_type": "execute_result"
    }
   ],
   "source": [
    "a = [4,2,3]\n",
    "sort(a)\n",
    "@show a\n",
    "\n",
    "# this is a mutating sort\n",
    "sort!(a)\n",
    "@show a"
   ]
  },
  {
   "cell_type": "code",
   "execution_count": 1,
   "metadata": {
    "ExecuteTime": {
     "end_time": "2021-06-03T23:30:07.910000+05:30",
     "start_time": "2021-06-03T18:00:04.065Z"
    }
   },
   "outputs": [
    {
     "data": {
      "text/plain": [
       "#3 (generic function with 1 method)"
      ]
     },
     "execution_count": 1,
     "metadata": {},
     "output_type": "execute_result"
    }
   ],
   "source": [
    "f = x -> x^2"
   ]
  },
  {
   "cell_type": "code",
   "execution_count": 2,
   "metadata": {
    "ExecuteTime": {
     "end_time": "2021-06-03T23:30:16.462000+05:30",
     "start_time": "2021-06-03T18:00:15.939Z"
    }
   },
   "outputs": [
    {
     "data": {
      "text/plain": [
       "4"
      ]
     },
     "execution_count": 2,
     "metadata": {},
     "output_type": "execute_result"
    }
   ],
   "source": [
    "f(2)"
   ]
  },
  {
   "cell_type": "code",
   "execution_count": 3,
   "metadata": {
    "ExecuteTime": {
     "end_time": "2021-06-03T23:30:21.138000+05:30",
     "start_time": "2021-06-03T18:00:20.636Z"
    }
   },
   "outputs": [
    {
     "data": {
      "text/plain": [
       "\"hi-hi-\""
      ]
     },
     "execution_count": 3,
     "metadata": {},
     "output_type": "execute_result"
    }
   ],
   "source": [
    "f(\"hi-\")"
   ]
  },
  {
   "cell_type": "code",
   "execution_count": 9,
   "metadata": {
    "ExecuteTime": {
     "end_time": "2021-06-03T23:35:42.477000+05:30",
     "start_time": "2021-06-03T18:05:42.474Z"
    }
   },
   "outputs": [
    {
     "data": {
      "text/plain": [
       "3-element Array{Int64,1}:\n",
       " 1\n",
       " 4\n",
       " 9"
      ]
     },
     "execution_count": 9,
     "metadata": {},
     "output_type": "execute_result"
    }
   ],
   "source": [
    "# broadcast fn element-wise\n",
    "broadcast(f,[1,2,3])\n",
    "# or\n",
    "f.([1,2,3])"
   ]
  },
  {
   "cell_type": "code",
   "execution_count": 7,
   "metadata": {
    "ExecuteTime": {
     "end_time": "2021-06-03T23:34:56.410000+05:30",
     "start_time": "2021-06-03T18:04:56.407Z"
    }
   },
   "outputs": [
    {
     "data": {
      "text/plain": [
       "3-element Array{Int64,1}:\n",
       " 1\n",
       " 4\n",
       " 9"
      ]
     },
     "execution_count": 7,
     "metadata": {},
     "output_type": "execute_result"
    }
   ],
   "source": [
    "# call fn elementwise\n",
    "map(f,[1,2,3])"
   ]
  },
  {
   "cell_type": "code",
   "execution_count": 10,
   "metadata": {
    "ExecuteTime": {
     "end_time": "2021-06-03T23:36:09.420000+05:30",
     "start_time": "2021-06-03T18:06:09.407Z"
    }
   },
   "outputs": [
    {
     "data": {
      "text/plain": [
       "3-element Array{Int64,1}:\n",
       " 1\n",
       " 4\n",
       " 9"
      ]
     },
     "execution_count": 10,
     "metadata": {},
     "output_type": "execute_result"
    }
   ],
   "source": [
    "# comprehension\n",
    "[f(i) for i in [1,2,3]]"
   ]
  },
  {
   "cell_type": "code",
   "execution_count": 12,
   "metadata": {
    "ExecuteTime": {
     "end_time": "2021-06-03T23:37:10.767000+05:30",
     "start_time": "2021-06-03T18:07:10.725Z"
    }
   },
   "outputs": [
    {
     "data": {
      "text/plain": [
       "3-element Array{Int64,1}:\n",
       "  1\n",
       "  8\n",
       " 27"
      ]
     },
     "execution_count": 12,
     "metadata": {},
     "output_type": "execute_result"
    }
   ],
   "source": [
    "# map anonymous fn\n",
    "map(x->x^3, [1,2,3])"
   ]
  },
  {
   "cell_type": "code",
   "execution_count": 14,
   "metadata": {
    "ExecuteTime": {
     "end_time": "2021-06-03T23:39:03.406000+05:30",
     "start_time": "2021-06-03T18:09:03.353Z"
    }
   },
   "outputs": [
    {
     "data": {
      "text/plain": [
       "3×3 Array{Int64,2}:\n",
       " 1  2  3\n",
       " 4  5  6\n",
       " 7  8  9"
      ]
     },
     "execution_count": 14,
     "metadata": {},
     "output_type": "execute_result"
    }
   ],
   "source": [
    "# 2D Array\n",
    "A = [i + 3*j for j in 0:2, i in 1:3]\n",
    "A"
   ]
  },
  {
   "cell_type": "code",
   "execution_count": 17,
   "metadata": {
    "ExecuteTime": {
     "end_time": "2021-06-03T23:41:01.816000+05:30",
     "start_time": "2021-06-03T18:11:01.574Z"
    }
   },
   "outputs": [
    {
     "data": {
      "text/plain": [
       "3×3 Array{Float64,2}:\n",
       "  3.0   6.0   9.0\n",
       " 12.0  15.0  18.0\n",
       " 21.0  24.0  27.0"
      ]
     },
     "execution_count": 17,
     "metadata": {},
     "output_type": "execute_result"
    }
   ],
   "source": [
    "# Elementwise arithmetic\n",
    "A .+ 2 .* f.(A) ./ A"
   ]
  },
  {
   "cell_type": "code",
   "execution_count": 16,
   "metadata": {
    "ExecuteTime": {
     "end_time": "2021-06-03T23:40:18.995000+05:30",
     "start_time": "2021-06-03T18:10:18.889Z"
    }
   },
   "outputs": [
    {
     "data": {
      "text/plain": [
       "3×3 Array{Float64,2}:\n",
       "  3.0   6.0   9.0\n",
       " 12.0  15.0  18.0\n",
       " 21.0  24.0  27.0"
      ]
     },
     "execution_count": 16,
     "metadata": {},
     "output_type": "execute_result"
    }
   ],
   "source": [
    "map(x-> x+2*f(x)/x, A)"
   ]
  },
  {
   "cell_type": "code",
   "execution_count": 20,
   "metadata": {
    "ExecuteTime": {
     "end_time": "2021-06-03T23:41:42.038000+05:30",
     "start_time": "2021-06-03T18:11:41.954Z"
    }
   },
   "outputs": [
    {
     "name": "stdout",
     "output_type": "stream",
     "text": [
      "f(A) = [30 36 42; 66 81 96; 102 126 150]\n",
      "f.(A) = [1 4 9; 16 25 36; 49 64 81]\n"
     ]
    },
    {
     "data": {
      "text/plain": [
       "3×3 Array{Int64,2}:\n",
       "  1   4   9\n",
       " 16  25  36\n",
       " 49  64  81"
      ]
     },
     "execution_count": 20,
     "metadata": {},
     "output_type": "execute_result"
    }
   ],
   "source": [
    "# Matrix multiplication\n",
    "@show f(A) \n",
    "\n",
    "# elementwise multiplication\n",
    "@show f.(A)"
   ]
  },
  {
   "cell_type": "markdown",
   "metadata": {},
   "source": [
    "# Broadcast is different from Map"
   ]
  },
  {
   "cell_type": "code",
   "execution_count": 22,
   "metadata": {
    "ExecuteTime": {
     "end_time": "2021-06-03T23:43:39.625000+05:30",
     "start_time": "2021-06-03T18:13:39.446Z"
    }
   },
   "outputs": [
    {
     "data": {
      "text/plain": [
       "5×4 Array{Int64,2}:\n",
       " 11  21  31  41\n",
       " 12  22  32  42\n",
       " 13  23  33  43\n",
       " 14  24  34  44\n",
       " 15  25  35  45"
      ]
     },
     "execution_count": 22,
     "metadata": {},
     "output_type": "execute_result"
    }
   ],
   "source": [
    "vec = [1,2,3,4,5]\n",
    "row = [10 20 30 40]\n",
    "vec .+ row"
   ]
  },
  {
   "cell_type": "code",
   "execution_count": null,
   "metadata": {},
   "outputs": [],
   "source": []
  }
 ],
 "metadata": {
  "kernelspec": {
   "display_name": "Julia 1.4.2",
   "language": "julia",
   "name": "julia-1.4"
  },
  "language_info": {
   "file_extension": ".jl",
   "mimetype": "application/julia",
   "name": "julia",
   "version": "1.4.2"
  },
  "toc": {
   "base_numbering": 1,
   "nav_menu": {},
   "number_sections": true,
   "sideBar": true,
   "skip_h1_title": false,
   "title_cell": "Table of Contents",
   "title_sidebar": "Contents",
   "toc_cell": false,
   "toc_position": {
    "height": "calc(100% - 180px)",
    "left": "10px",
    "top": "150px",
    "width": "165px"
   },
   "toc_section_display": true,
   "toc_window_display": false
  }
 },
 "nbformat": 4,
 "nbformat_minor": 5
}
